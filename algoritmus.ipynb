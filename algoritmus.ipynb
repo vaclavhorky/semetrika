{
 "cells": [
  {
   "cell_type": "markdown",
   "metadata": {},
   "source": [
    "# Jak měří Semetrika latinský hexametr\n"
   ]
  },
  {
   "cell_type": "markdown",
   "metadata": {},
   "source": [
    "## Několik slov k poezii, časomíře a hexametru\n",
    "\n",
    "Poezii odlišuje od běžné řeči formální pravidelnost:\n",
    "\n",
    "> ```text\n",
    "> Seděly žáby v kaluži,\n",
    ">  - u u  - u    - u u\n",
    "> hleděly vzhůru k nebi,\n",
    ">   - u u    - u    - u\n",
    "> starý jim žabák učený\n",
    ">   - u  u   - u  - u u\n",
    "> odvíral tvrdé lebi.\n",
    "> -  u u    - u  - u\n",
    "> ```\n",
    "\n",
    "V tomto úryvku z Nerudových *Písní kosmických* se pravidelně opakují\n",
    "verše se stejnou posloupností přízvučných (`-`) a nepřízvučných (`u`) slabik\n",
    "(přízvuk je v češtině obyčejně na první slabice ve slově),\n",
    "a tedy se stejným rytmem:\n",
    "první a třetí verš mají posloupnost `-uu-u-uu`,\n",
    "druhému a čtvrtému proti nim chybí poslední slabika, tedy `-uu-u-u`.\n",
    "Pravidelné střídání přízvučných a nepřízvučných slabik dává rytmus většině našich básní.\n",
    "\n",
    "Některým ale místo toho dává rytmus\n",
    "pravidelné střídání slabik dlouhých a krátkých (označují se stejně, tj. `-` a `u`) neboli *časomíra*:\n",
    "\n",
    "> ```text\n",
    "> I draka | měl stráž|cem škare|dým sad | tento ča|rovný.\n",
    "> -   u u |  -     - | -    u u| -   -  |  -  u  u| -  -\n",
    "> Byl to pan | inspek|tor. Titu|lem tím | pyšně hla|holným\n",
    ">  -   u  u  | -   - | -    u u| -   -  |  -  u   u| -  -\n",
    "> příbuz|ný dale|ký jest | obdaro|ván dvoru | pánem,\n",
    ">   - - | -  u u| -  -   | -  u u| -    u u |  - -\n",
    "> myslím | jen, by ti|tul vů|bec něja|ký se mu | dával.\n",
    ">  -  -  |  -    u  u| -   -| -   u u| -  u  u |  - -\n",
    "> Střed jeho | inspek|cí pivo|var bý|val s vino|palnou,\n",
    ">    -   u u | -   - | -  u u| -   -| -     u u| -  -\n",
    "> kde skoro | z rána po | noc svém | v úřadě | horlivě | trávil.\n",
    ">   -   u u |    - u  u |  -    -  |   - u u |  -  u u |   - -\n",
    "> ```\n",
    "\n",
    "Dlouhá je slabika buďto *přirozeně*,\n",
    "když je v ní dlouhá samohláska nebo dvojhláska (*ou*),\n",
    "nebo někdy *pozičně*, když je v ní za samohláskou několik souhlásek;\n",
    "krátké jsou slabiky ostatní.\n",
    "Tak např. slovo *la-tin-ský-mi* by se \"změřilo\" takto `u--u`.\n",
    "\n",
    "Existuje spousta druhů časoměrných veršů neboli *meter*;\n",
    "výše uvedený úryvek z básně *Václav Živsa* od Svatopluka Čecha\n",
    "je složen v *daktylském hexametru*.\n",
    "Ten se skládá ze šesti *stop*, tj. posloupností slabik dané délky\n",
    "(jejich hranice se označují `|`).\n",
    "První čtyři z nich jsou *daktyly* (`-uu`) nebo *spondeje* (`--`);\n",
    "pátá je skoro vždycky daktyl;\n",
    "a šestá je spondej nebo daktyl bez poslední slabiky (`-u`).\n",
    "Daktyl a spondej se mohou zastupovat,\n",
    "protože v časomíře jedna dlouhá slabika odpovídá délkou dvěma krátkým\n",
    "(jen v časomíře -- v běžné řeči to ani zdaleka neplatí).\n",
    "Hexametr tedy můžeme zapsat jako šest čtyřdobých taktů:\n",
    "\n",
    "![hexametr](hexametr.png)\n",
    "\n",
    "Kdežto v naší poezii je časomíra vzácná\n",
    "a většina z nás nedovede vnímat její rytmus\n",
    "(leda když si pomůžeme nepřirozeným přesouváním přízvuku na první slabiku stopy),\n",
    "v poezii starého Říma naprosto převažuje.\n",
    "A její velká část je složena právě v hexametru:\n",
    "mytologické, naučné, historické i biblické eposy, satiry\n",
    "i nejdůležitější starořímská báseň, Vergiliova *Aeneida*."
   ]
  },
  {
   "cell_type": "markdown",
   "metadata": {},
   "source": [
    "## Shrnutí algoritmu Semetriky\n",
    "\n",
    " * vstup: text s každým veršem na zvláštní řádce, nemusí (ale mohou) v něm být označené délky samohlásek, ale musí se v něm rozlišovat *u* a *v* (*i* a *j* nemusí, ale může)\n",
    " * výstup: možné hexametrické posloupnosti délek slabik zarovnané s textem verše\n",
    "\n",
    " 0. vytvoř všechny možné posloupnosti délek slabik v hexametru\n",
    " 1. znormalizuj vstup\n",
    " 2. rozděl verš na slova\n",
    " 3. rozděl slova na samohlásky a souhlásky\n",
    "    - (a doplň dříve naučené jednoznačné délky samohlásek)\n",
    " 4. eliduj (tj. když se na hranicích slov setkají dvě samohlásky, první vypusť)\n",
    " 5. pro každou samohlásku zapiš do rozboru:\n",
    "    1. `-`, když\n",
    "       1. je to dvojhláska nebo\n",
    "       2. je za ní víc než jedna souhláska a není to *muta cum liquida*\n",
    "    2. `u`, když je krátká a je v otevřené slabice,\n",
    "    3. jinak `o`\n",
    " 6. vytvoř všechny možné způsoby, jak v rozboru nahradit značku `o` značkami `-` a `u`\n",
    " 7. pronikni je s posloupnostmi hexametru (a nečekej, že pokaždé vyjde právě jedna)\n",
    " 8. zarovnej je s textem verše"
   ]
  },
  {
   "cell_type": "code",
   "execution_count": 2,
   "metadata": {},
   "outputs": [],
   "source": [
    "from scan import *\n",
    "from lengths import *\n",
    "from testing import *"
   ]
  },
  {
   "cell_type": "markdown",
   "metadata": {},
   "source": [
    "## Vytvoření posloupností hexametru"
   ]
  },
  {
   "cell_type": "code",
   "execution_count": 3,
   "metadata": {},
   "outputs": [
    {
     "name": "stdout",
     "output_type": "stream",
     "text": [
      "-w | -w | -w | -w | -uu | -o\n"
     ]
    }
   ],
   "source": [
    "# schéma hexametru (w: - nebo uu\n",
    "#                   o  - nebo u)\n",
    "print(HEXAMETER.scheme)"
   ]
  },
  {
   "cell_type": "markdown",
   "metadata": {},
   "source": [
    " * v prvních čtyřech stopách může být buď daktyl (`-uu`), nebo spondej (`--`)\n",
    " * v páté je skoro vždycky daktyl (a Semetrika s ním počítá)\n",
    " * v šesté je buďto neúplný daktyl (`-u`), nebo spondej (`--`), ale na délce poslední slabiky nezáleží (říká se, že je *volná*)\n",
    " * je tedy celkem 2^4=16 různých posloupností (nebo 2^5=32, když uvážíme i proměnlivost poslední slabiky)"
   ]
  },
  {
   "cell_type": "code",
   "execution_count": 4,
   "metadata": {},
   "outputs": [
    {
     "name": "stdout",
     "output_type": "stream",
     "text": [
      "32\n",
      "['---------uu--', '-------uu-uu--', '-----uu---uu--', '-----uu-uu-uu--', '---uu-----uu--', '---uu---uu-uu--', '---uu-uu---uu--', '---uu-uu-uu-uu--', '-uu-------uu--', '-uu-----uu-uu--', '-uu---uu---uu--', '-uu---uu-uu-uu--', '-uu-uu-----uu--', '-uu-uu---uu-uu--', '-uu-uu-uu---uu--', '-uu-uu-uu-uu-uu--']\n"
     ]
    }
   ],
   "source": [
    "print(len(HEXAMETER.sequences))\n",
    "# každá druhá posloupnost\n",
    "# (tj. když pomineme proměnlivost poslední slabiky)\n",
    "print(sorted(HEXAMETER.sequences.keys())[::2])"
   ]
  },
  {
   "cell_type": "markdown",
   "metadata": {},
   "source": [
    " * ale pro daný počet slabik jich je nejvýš šest:\n",
    "   * 13: jediný daktyl je v páté stopě, předtím jsou čtyři spondeje, tedy jediná možnost\n",
    "   * 14: v prvních čtyřech stopách je jeden daktyl, tedy čtyři možnosti\n",
    "   * 15: v prvních čtyřech stopách jsou dva daktyly, je (4 nad 2) možností, jak je vybrat, tj. šest\n",
    "   * dále obdobně\n",
    "   \n",
    " * naproti tomu všech možných posloupností délek slabik je daleko víc:\n",
    "   * pro 18 slabik: 2^17 = 131 072 (hexametrická je jediná)\n",
    "   * pro 15 slabik: 2^14 = 16 384 (hexametrických je šest)\n",
    "   * ale v daném verši je i bez znalosti délek jednoduchých samohlásek počet možných posloupností obyčejně omezen přirozenými délkami dvojhlásek a pozičními délkami"
   ]
  },
  {
   "cell_type": "markdown",
   "metadata": {},
   "source": [
    "## Normalizace\n",
    "\n",
    "### Proč?\n",
    " - latinské texty se obyčejně píšou latinkou bez diakritiky, a se zpracováním jejich znaků by tedy neměl být problém, ale v učebnicích a slovnících a někdy i jinde se navíc označují ležatou čárkou dlouhé samohlásky (a když je potřeba to zdůraznit, tak krátké obloučkem, např. *fēmĭnă* \"žena\") a s tím už problém je -- ve znakové sadě Unicode jsou totiž dvě reprezentace písmen s diakritikou: buďto mají jeden znak, nebo dva\n",
    " - kromě toho mohou být ve vstupu zbytečné mezery na začátku a na konci a další nepořádné znaky\n",
    " \n",
    "### Jak a co?\n",
    "\n",
    " - písmena s diakritikou převádí Semetrika prostřednictvím knihovny `unicodedata` na jeden znak (s tím se pracuje snáz než se dvěma)\n",
    "   - ale pro y s obloučkem samostatný znak není, a musí se tedy v dalších krocích zvlášť ošetřovat\n",
    " - české, šikmé čárky (*fémina*) převádí na ležaté\n",
    " - slitky pro dvojhlásky (používané spíš dříve) převádí na dvě písmena\n",
    " - maže začáteční a koncové prázdné znaky\n",
    " - nechává jen znaky pro zápis latinských slov, interpunkční znaménka a číslice (pro čísla veršů), ostatní znaky maže"
   ]
  },
  {
   "cell_type": "code",
   "execution_count": 5,
   "metadata": {},
   "outputs": [
    {
     "name": "stdout",
     "output_type": "stream",
     "text": [
      "False\n",
      "9\n",
      "6\n"
     ]
    }
   ],
   "source": [
    "femina_po_dvou = \"fēmĭnă\"\n",
    "femina_po_jednom = \"fēmĭnă\"\n",
    "# z hlediska počítače to jsou dva různé řetězce\n",
    "print(femina_po_dvou == femina_po_jednom)\n",
    "# a mají i různou délku\n",
    "print(len(femina_po_dvou))\n",
    "print(len(femina_po_jednom))"
   ]
  },
  {
   "cell_type": "code",
   "execution_count": 6,
   "metadata": {},
   "outputs": [
    {
     "data": {
      "text/plain": [
       "'Arma virumque canō, Trōiae quī prīmus ab ōrīs [1]'"
      ]
     },
     "execution_count": 6,
     "metadata": {},
     "output_type": "execute_result"
    }
   ],
   "source": [
    "aeneida1 = Verse(\n",
    "    \"   Arma virumque canó, Tróiæ quí prímus ab órís [1]\",\n",
    "    idle=True)   # aby se verš automaticky nezpracoval\n",
    "aeneida1.normalize()\n",
    "aeneida1.normalized_form"
   ]
  },
  {
   "cell_type": "markdown",
   "metadata": {},
   "source": [
    "## Rozdělení verše na tokeny\n",
    "\n",
    " * *token*: slovní tvar nebo interpunkční znaménka (tj. i mezera) nebo číslice (pro čísla veršů)\n",
    " \n",
    "### Proč?\n",
    "\n",
    " - interpretace některých písmen závisí na poloze ve slově\n",
    "   - např. začáteční *i* před samohláskovým písmenem je souhláska [j]\n",
    " - některá slova se chovají zvláštně\n",
    "   - např. ve tvaru *est* následujícím po slově končícím samohláskou se eliduje *e*, kdežto jindy se eliduje vždycky koncová samohláska prvního slova\n",
    " - při elidování se pracuje se začáteční a koncovou hláskou slova\n",
    "\n",
    "### Jak?\n",
    "\n",
    " - dvě množiny:\n",
    "   - písmena pro zápis latinských slov, tj. latinská abeceda\n",
    "   - ostatní povolená písmena, tj. interpunkční znaménka a číslice\n",
    " - Semetrika bere jako slovní tokeny souvislé úseky slovních písmen ohraničené neslovními písmeny; každé neslovní písmeno má pak samostatný token (při měření verše na nich nezáleží)\n",
    " \n",
    "### Problémy\n",
    " - kdyby náhodou bylo uprostřed slova interpunkční znaménko (ediční závorky), rozdělí ho na dva tokeny\n",
    " - příklonná slova *-que* \"a\", *-ve* \"nebo\", *-ne* \"zda\" se píšou dohromady s předcházejícím slovem, a tímto postupem se tedy neoddělí; ale je dost slov, kde jsou tyto koncové řetězce součástí slov (*quoque* \"také\")\n",
    "   - při samém měření to nevadí, ale snižuje to účinnost učení a doplňování délek (k tomu později)"
   ]
  },
  {
   "cell_type": "code",
   "execution_count": 7,
   "metadata": {},
   "outputs": [
    {
     "name": "stdout",
     "output_type": "stream",
     "text": [
      "litora|,| |multum| |ille| |et| |terris| |iactatus| |et| |alto\n"
     ]
    }
   ],
   "source": [
    "aeneida3 = Verse(\n",
    "    \"litora, multum ille et terris iactatus et alto\",\n",
    "    idle=True)\n",
    "aeneida3.normalize()\n",
    "aeneida3.tokenize()\n",
    "# vytiskne jednotlivé tokeny oddělené svislicemi\n",
    "aeneida3.print_tokens()"
   ]
  },
  {
   "cell_type": "markdown",
   "metadata": {},
   "source": [
    "## Rozdělení tokenů na hláskové segmenty\n",
    "\n",
    "### Proč?\n",
    "\n",
    " - co samohláska, to slabika\n",
    "   - dlouhá jednoduchá samohláska nebo dvojhláska -> přirozeně dlouhá slabika\n",
    " - souhlásky\n",
    "   - víc než dvě souhlásky (až na některé výjimky) -> pozičně dlouhá slabika\n",
    "\n",
    "\n",
    "### Jak? (a problémy)\n",
    "\n",
    " * obecně:\n",
    "   - tři množiny\n",
    "     - samohlásková písmena: *a*, *e*, *i*, *o*, *u*, *y* (a diakritika)\n",
    "     - souhlásková písmena: *b*, *c*, *d*, *f*, *g*, *j*, *k*, *l*, *m*, *n*, *p*, *q*, *r*, *s*, *t*, *v*, *x*, *z*\n",
    "     - *h*\n",
    "   - ale zdaleka to není tak jednoduché, že by se daly tokeny rozdělit na písmena a každé jednoznačně zařadit --> Semetrika používá několik pravidel (viz dále) vedoucích k jednoznačnému (ale ne vždycky správnému) rozdělení na segmenty a určení jejich druhu (samohláska/souhláska/*h*)\n",
    "\n",
    " * souhláska *h* je zvláštní druh segmentu, protože se nepodílí na poziční délce (např. *adhibeo*) a nebrání elizi\n",
    "   - (se souhláskami *ph*, *th*, *ch* je zbytečné zacházet zvlášť)"
   ]
  },
  {
   "cell_type": "code",
   "execution_count": 8,
   "metadata": {},
   "outputs": [
    {
     "name": "stdout",
     "output_type": "stream",
     "text": [
      "p|h|I|l|O|s|O|p|h|I|A\n"
     ]
    },
    {
     "data": {
      "text/plain": [
       "('consonant', 'h', 'vowel')"
      ]
     },
     "execution_count": 8,
     "metadata": {},
     "output_type": "execute_result"
    }
   ],
   "source": [
    "philosophia = Token(\"philosophia\", type_=\"word\")\n",
    "# oddělí segmenty svislicí a samohlásky napíše velkými písmeny\n",
    "philosophia.segmentize()\n",
    "philosophia.print_segments()\n",
    "(philosophia.segments[0].type_,\n",
    " philosophia.segments[1].type_,\n",
    " philosophia.segments[2].type_)"
   ]
  },
  {
   "cell_type": "markdown",
   "metadata": {},
   "source": [
    " * souhlásková písmena\n",
    "   - *x*, *z* -- dvě souhlásky [ks], [zz] -> dva segmenty\n",
    "   - *qu* a *gu* ve spojení *ngu*+samohláska -- jedna (labializovaná) souhláska (nezpůsobující sama o sobě poziční délku) -> jeden segment\n",
    "   - spojení *b*, *p*, *d*, *t*, *c*, *f*, *g* + *r*, *l* (*mūta cum liquidā* \"němá souhláska s plynnou\") obyčejně nezpůsobuje poziční délku, ale někdy ano; Semetrika je bere jako dva segmenty a řeší je později\n",
    "   - začáteční skupina dvou a více souhlásek skoro nikdy nezpůsobuje poziční délku poslední slabiky předcházejícího slova; i to Semetrika řeší později"
   ]
  },
  {
   "cell_type": "code",
   "execution_count": 9,
   "metadata": {},
   "outputs": [
    {
     "name": "stdout",
     "output_type": "stream",
     "text": [
      "m|A||x|I|m|U|s\n",
      "A|qu|A\n"
     ]
    }
   ],
   "source": [
    "maximus = Token(\"maximus\", type_=\"word\")\n",
    "maximus.segmentize()\n",
    "# x jako dva segmenty: \"\", \"x\"\n",
    "maximus.print_segments()\n",
    "aqua = Token(\"aqua\", type_=\"word\")\n",
    "aqua.segmentize()\n",
    "aqua.print_segments()"
   ]
  },
  {
   "cell_type": "markdown",
   "metadata": {},
   "source": [
    " * samohlásková písmena\n",
    "   - *i*\n",
    "     - začáteční před samohláskou -- souhláska [j]\n",
    "       - a stejně i po předponě -- je třeba porovnat předcházející úsek se seznamem předpon a doufat, že to je opravdu předpona (skoro vždycky je)\n",
    "     - mezi dvěma samohláskovými písmeny -- dvě souhlásky [jj]\n",
    "       - ale ne po *qu*, *ngu* (*quia*, *pinguia*)\n",
    "     - jinak samohláska [i]\n",
    "     - problém: básníci občas zaměňují [i] a [j]"
   ]
  },
  {
   "cell_type": "code",
   "execution_count": 10,
   "metadata": {},
   "outputs": [
    {
     "name": "stdout",
     "output_type": "stream",
     "text": [
      "m|A||i|O|r\n"
     ]
    }
   ],
   "source": [
    "maior = Token(\"maior\", type_=\"word\")\n",
    "maior.segmentize()\n",
    "maior.print_segments()"
   ]
  },
  {
   "cell_type": "markdown",
   "metadata": {},
   "source": [
    "   - nevyřešený problém: *u*\n",
    "     - trochu podobné jako [i]/[j], ale hůř předvídatelné\n",
    "     - existuje i minimální pár *uolui* [wolwí] \"valil(a) jsem\", [woluí] \"chtěl(a) jsem\" nebo skoro minimální pár *parui* [páruí] \"poslechl(a) jsem\", [parwí] \"malí\"\n",
    "     - básníci zaměňují [u] a [w] stejně jako [i] a [j]\n",
    "     - ale v novodobých vydáních se často rozlišuje *u* a *v* (i když jednotné psaní *u* se asi šíří), takže na to Semetrika spoléhá\n",
    "   - *ae*, *oe*, *au* -- většinou dvojhlásky [aj], [oj], [au]\n",
    "     - problém: ne vždycky -- v řeckých slovech, např. *poeta* [poéta] \"básník\", *aer* [áér] \"vzduch\", *Danaum* [dana-um] \"(od) Řeků\", nebo na morfémovém švu, např. *coeo* [co-eó] \"scházím se\"\n",
    "       - občas se v takových případech píše *aë*, *oë* a Semetrika si pak dá poradit\n",
    "   - *eu*, *ui* jsou v několika málo slovech dvojhlásky\n",
    "     - problém: *eu* je dvojhláska také pravidelně v řeckých slovech\n",
    "   - problém: občas básníci stahují dvě samohlásky za sebou do jedné dvojhlásky, např. *deinde* [dejnde] místo [dejinde]\n",
    "   - koncové spojení samohláska+*m* -- (většinou) dlouhá nosová samohláska\n",
    "     - nebylo by nutné to zvlášť řešit:\n",
    "       - buďto je *m* před aspoň jednou souhláskou a pak jakoby způsobují poziční délku\n",
    "       - anebo je před samohláskou a pak se eliduje (viz dále)\n",
    "     - ale když se to bere jako jeden segment, tak je pak jednodušší ho elidovat (vyřeší se stejně jako u ústních samohlásek)\n",
    "     - ale nosové samohlásky uvnitř slova, např. *c**on**sulo* je opravdu zbytečné řešit\n",
    "     - (i když je to dlouhá samohláska, čárka se nad ni nepíše)\n",
    "   - největší vadou latinského pravopisu je to, že neoznačuje délku jednoduchých samohlásek -- i když často rozlišuje význam, např. *anus* [anus] \"stařena\", [ánus] \"kruh\", slova skloňovaná podle vzoru [fémina] \"žena\" mají v jednom pádě (nominativ jednotného čísla) koncovku [-a] a v jiném (ablativ) [-á])\n",
    "     - Semetrika proto později zkouší obě možnosti (ale umí to i chytřeji, viz dále)"
   ]
  },
  {
   "cell_type": "code",
   "execution_count": 11,
   "metadata": {},
   "outputs": [
    {
     "name": "stdout",
     "output_type": "stream",
     "text": [
      "l|I|t|O|r|A\n",
      ",\n",
      "_\n",
      "m|U|l|t|UM\n",
      "_\n",
      "I|l|l|E\n",
      "_\n",
      "E|t\n",
      "_\n",
      "t|E|r|r|I|s\n",
      "_\n",
      "i|A|c|t|A|t|U|s\n",
      "_\n",
      "E|t\n",
      "_\n",
      "A|l|t|O\n"
     ]
    }
   ],
   "source": [
    "for token in aeneida3.tokens:\n",
    "    token.segmentize()\n",
    "# vytiskne každý token na zvláštní řádek (_ místo mezery)\n",
    "aeneida3.print_segments()\n",
    "# i v iactatus není samohláska\n",
    "# um v multum jako jeden segment"
   ]
  },
  {
   "cell_type": "markdown",
   "metadata": {},
   "source": [
    "## Elize\n",
    "\n",
    " * staří Římané neměli rádi, když se na hranicích slov setkaly dvě samohlásky, a proto jednu z nich vypouštěli (elidovali)\n",
    "\n",
    "### Kdy a jak\n",
    "\n",
    "   - když se setkají na hranicích slov buďto dvě samohlásky, nebo samohláska a *h* (a za ním v latině nutně následuje samohláska), eliduje se koncová samohláska prvního slova (a začáteční *h* druhého)\n",
    "     - pravidelná výjimka: neeliduje se citoslovce *o* [ó]\n",
    "     - za poslední samohláskou prvního slova může být ještě napsáno *m*, ale to ve skutečnosti označuje, že je předcházející samohláska nosová, a Semetrika ho s ní bere jako jeden segment, takže v tomto kroku se tím už nemusí zabývat\n",
    "   - ale když je druhé slovo *est* nebo *es*, eliduje se místo toho první samohláska v něm\n",
    "   - Semetrika označí segmenty jako elidované a dá je do závorek\n",
    "\n",
    "### Problém\n",
    "\n",
    " * neeliduje se úplně vždycky"
   ]
  },
  {
   "cell_type": "code",
   "execution_count": 12,
   "metadata": {},
   "outputs": [
    {
     "name": "stdout",
     "output_type": "stream",
     "text": [
      "litora, mult(um) ill(e) et terris iactatus et alto\n"
     ]
    },
    {
     "data": {
      "text/plain": [
       "('(um)', True)"
      ]
     },
     "execution_count": 12,
     "metadata": {},
     "output_type": "execute_result"
    }
   ],
   "source": [
    "aeneida3.elide()\n",
    "aeneida3.print_verse()\n",
    "(aeneida3.tokens[3].segments[-1].lowercase_form,\n",
    " aeneida3.tokens[3].segments[-1].elided)"
   ]
  },
  {
   "cell_type": "markdown",
   "metadata": {},
   "source": [
    "## Rozbor slabičných kód\n",
    "\n",
    " * slabika: začáteční úsek souhlásek + samohláska + koncový úsek souhlásek (= kóda)\n",
    "\n",
    "### Proč?\n",
    "\n",
    " * pro nalezení pozičních délek -- ty spolu s přirozenými délkami dvojhlásek a dlouhých koncových nosovek zmenšují počet možných meření pro vstup bez označených délek jednoduchých samohlásek\n",
    "\n",
    "### Jak?\n",
    "\n",
    " - spočítat souhláskové segmenty za danou samohláskou (i přes hranice slov) a pamatovat si je\n",
    "   - nejvýše jeden: *otevřená* slabika (jestliže je v ní jednoduchá ústní samohláska, může být krátká i dlouhá)\n",
    "     - totéž i tehdy, když jsou všechny souhláskové segmenty součástí až dalšího slova\n",
    "   - dva, *muta cum liquida*: *obojetná* slabika (totéž)\n",
    "     - Semetrika si to pamatuje jako jiný případ než předchozí, aby pak mohla správně doplnit délky (viz dále)\n",
    "   - jinak: *zavřená* slabika, nutně dlouhá (když je samohláska jednoduchá a neznáme její délku, není možné určit, jestli je slabika dlouhá přirozeně, nebo pozičně -- ale pro měření verše na tom nezáleží)\n",
    " - u poslední slabiky (ale na její délce v hexametru nezáleží):\n",
    "   - žádný segment: otevřená\n",
    "   - jinak: zavřená\n",
    " - Semetrika to ukládá k samohláskám"
   ]
  },
  {
   "cell_type": "code",
   "execution_count": 13,
   "metadata": {},
   "outputs": [
    {
     "data": {
      "text/plain": [
       "('open', 'closed')"
      ]
     },
     "execution_count": 13,
     "metadata": {},
     "output_type": "execute_result"
    }
   ],
   "source": [
    "aeneida3.analyse_codas()\n",
    "(aeneida3.tokens[0].segments[1].coda,   # li[tora] -- otevřená\n",
    " aeneida3.tokens[3].segments[1].coda)   # mul[t(um)] -- zavřená"
   ]
  },
  {
   "cell_type": "code",
   "execution_count": 14,
   "metadata": {},
   "outputs": [
    {
     "data": {
      "text/plain": [
       "'unknown'"
      ]
     },
     "execution_count": 14,
     "metadata": {},
     "output_type": "execute_result"
    }
   ],
   "source": [
    "# bez idle=True se verš rovnou zpracuje a změří\n",
    "aeneida7 = Verse(\"Albanique patres, atque altae moenia Romae.\")\n",
    "aeneida7.tokens[2].segments[1].coda    # pa[tres] -- obojetná\n",
    "    # neboli není (zatím) jasné, jestli je otevřená, nebo zavřená"
   ]
  },
  {
   "cell_type": "markdown",
   "metadata": {},
   "source": [
    "## Vytvoření schématu délek slabik\n",
    "\n",
    "### Proč?\n",
    "\n",
    " * proč rovnou negenerovat možné posloupnosti: aby pak šlo zjistit, na čem Semetrika selhala, když přijde na špatné řešení nebo nepřijde na žádné (Semetrika si také ukládá text se schématem zarovnaným se samohláskami a z něho je pak vidět, které slabiky považuje za jaké a které segmenty považuje za samohlásky)\n",
    "\n",
    "### Jak?\n",
    "\n",
    " * pro každou samohlásku:\n",
    "   - `-` (dlouhá slabika)\n",
    "     - když je to dvojhláska nebo nosovka nebo jednoduchá samohláska označená jako dlouhá (přirozená délka)\n",
    "     - nebo když je v zavřené slabice\n",
    "   - `u` (krátká slabika)\n",
    "     - když je to ednoduchá samohláska označená jako krátká a je v otevřené slabice\n",
    "   - jinak `o` (slabika neznámé délky)\n",
    "     - tj. jednoduchá samohláska bez označení délky v otevřené nebo obojetné slabice"
   ]
  },
  {
   "cell_type": "code",
   "execution_count": 15,
   "metadata": {},
   "outputs": [
    {
     "data": {
      "text/plain": [
       "'-ooooo----ooo-'"
      ]
     },
     "execution_count": 15,
     "metadata": {},
     "output_type": "execute_result"
    }
   ],
   "source": [
    "aeneida7.scheme"
   ]
  },
  {
   "cell_type": "code",
   "execution_count": 16,
   "metadata": {},
   "outputs": [
    {
     "name": "stdout",
     "output_type": "stream",
     "text": [
      "Albanique patres, atqu(e) altae moenia Romae.\n",
      "-  o o  o  o  o   -       -  -   -  oo  o -  \n"
     ]
    }
   ],
   "source": [
    "# první prvek v seznamu měření je toto schéma\n",
    "print(aeneida7.scansions[0][0])\n",
    "print(aeneida7.scansions[0][1])"
   ]
  },
  {
   "cell_type": "code",
   "execution_count": 17,
   "metadata": {},
   "outputs": [
    {
     "name": "stdout",
     "output_type": "stream",
     "text": [
      "Ălbānīquĕ pătrēs, ătqu(ĕ) ăltae moenĭă Rōmae.\n",
      "-  - -  u  o  -   -       -  -   -  uu  - -  \n"
     ]
    }
   ],
   "source": [
    "# příklad se všemi délkami označenými\n",
    "aeneida7_delky = Verse(\n",
    "    \"Albáníque patrés, atque altae moenia Rómae.\",\n",
    "    # považuj neoznačené jednoduché samohlásky za krátké\n",
    "    unmarked_short=True\n",
    ")\n",
    "print(aeneida7_delky.scansions[0][0])\n",
    "print(aeneida7_delky.scansions[0][1])"
   ]
  },
  {
   "cell_type": "markdown",
   "metadata": {},
   "source": [
    "## Vytvoření možných posloupností délek slabik\n",
    "\n",
    " * všechny možné způsoby, jak nahradit `o` za `-` nebo `u`"
   ]
  },
  {
   "cell_type": "code",
   "execution_count": 18,
   "metadata": {},
   "outputs": [
    {
     "name": "stdout",
     "output_type": "stream",
     "text": [
      "256\n",
      "['-uuu-u----u-u-', '--u-uu----u---', '--u--u--------', '----------uuu-', '---u----------', '-u---u----uu--', '--uu----------', '---u-u------u-', '-uuu-------u--', '-uuu------uuu-']\n"
     ]
    }
   ],
   "source": [
    "print(len(aeneida7.candidate_sequences))\n",
    "print(list(aeneida7.candidate_sequences)[:10])"
   ]
  },
  {
   "cell_type": "markdown",
   "metadata": {},
   "source": [
    "## Nalezení hexametrických posloupností\n",
    "\n",
    "### Jak?\n",
    "\n",
    " * průnik s množinou hexametrických posloupností\n",
    " * když se dvě posloupnosti liší jenom délkou poslední, v hexametru volné slabiky, sloučí je Semetrika do jedné (a u poslední slabiky napíše `o`)"
   ]
  },
  {
   "cell_type": "code",
   "execution_count": 19,
   "metadata": {},
   "outputs": [
    {
     "data": {
      "text/plain": [
       "['---uu-----uu--', '-uu-------uu--']"
      ]
     },
     "execution_count": 19,
     "metadata": {},
     "output_type": "execute_result"
    }
   ],
   "source": [
    "# ne pro každý verš se podaří dojít k jedné posloupnosti\n",
    "aeneida7.metrical_sequences"
   ]
  },
  {
   "cell_type": "markdown",
   "metadata": {},
   "source": [
    "## Vytisknutí měření\n",
    "\n",
    " * Semetrika tiskne pro každé měření text s označenými hranicemi stop a odkrytými délkami (tj. v otevřených slabikách nebo v obojetných změřených jako krátkých) a pod ním měření zarovnané se samohláskami"
   ]
  },
  {
   "cell_type": "code",
   "execution_count": 20,
   "metadata": {},
   "outputs": [
    {
     "name": "stdout",
     "output_type": "stream",
     "text": [
      "1. Albā|nīquĕ pă|trēs, at|qu(e) altae | moenĭă | Rōmae.\n",
      "   -  -| -  u  u|  -   - |      -  -  |  -  uu |  - -  \n",
      "\n",
      "2. Albănĭ|quē pat\\rēs, at|qu(e) altae | moenĭă | Rōmae.\n",
      "   -  u u|  -  - \\ -   - |      -  -  |  -  uu |  - -  \n"
     ]
    },
    {
     "name": "stderr",
     "output_type": "stream",
     "text": [
      "WARNING: cannot scan this unambiguosly\n"
     ]
    }
   ],
   "source": [
    "# správné je první měření\n",
    "aeneida7.print_scansions()"
   ]
  },
  {
   "cell_type": "markdown",
   "metadata": {},
   "source": [
    "### Jak?\n",
    "\n",
    " * kam dát hranice stop (označené svislicí)?\n",
    "   - teoreticky je to jednoduché: za konec poslední slabiky, tj. u otevřených slabik (kde je za samohláskou nejvýše jedna souhláska) hned za samohlásku, u zavřených (kde jsou aspoň dvě souhlásky) za první souhlásku za samohláskou\n",
    "   - ale Semetrika nepracuje s fonologickým přepisem, ale obyčejně se zápisem v latinském pravopise bez označených délek a ten přináší tyto problémy:\n",
    "     + slabika s mutou cum liquida je obyčejně otevřená, leda když je tato skupina na morfémovém švu nebo na hranicích slov\n",
    "       - ve verši by tedy bylo dobré brát jako zavřené navíc jen ty slabiky, ve kterých je krátká samohláska (tj. které nejsou dlouhé přirozeně, ale pozičně a kde se tedy první souhláska přesouvá do předcházející slabiky)\n",
    "       - ale když je slabika s jednoduchou samohláskou dlouhá, nepoznáme, jestli proto, že je v ní dlouhá samohláska (tedy slabika je dlouhá přirozeně a je otevřená), nebo že jsou muta cum liquida rozděleny do dvou slabik (a první je tedy dlouhá pozičně a je nutně zavřená)\n",
    "       - tedy: krátká slabika -> jednoznačně otevřená (a svislice je hned za samohláskou)\n",
    "       - jinak píše Semetrika zpětné lomítko za první souhlásku, aby naznačila, že si hranicemi stop není jistá\n",
    "     + u písmen označující dvě souhlásky (*x* [ks], *z* [zz], *i* [jj]) by se přesně měla svislice napsat doprostřed nich, ale protože to nejde, píše se před ně\n",
    "       - ale když je po *x* ještě další souhláskové písmeno, pak se píše svislice až po *x*\n",
    "     + když slovo končí spojením krátké samohlásky a souhlásky a další začíná samohláskou, měří se poslední slabika jako krátká, a tedy otevřená a odpovídající dělení by bylo např. \"a|b oris\", ale když mají hranice stop být v úseku, ve kterém jsou i hranice slov, píše se svislítko do mezery (ale ne v případě elize, která jakoby spojuje dvě slova do jednoho)"
   ]
  },
  {
   "cell_type": "code",
   "execution_count": 21,
   "metadata": {},
   "outputs": [
    {
     "name": "stdout",
     "output_type": "stream",
     "text": [
      "lītŏră, | mult(um) il|l(e) et ter|ris iac|tātŭs ĕt | alto\n",
      " - u u  |  -       - |     -   - | -   - | - u  u  | -  o\n"
     ]
    }
   ],
   "source": [
    "# hranice druhé a třetí stopy jsou umístěny, jako by bylo\n",
    "# ille a et jedno slovo (illet)\n",
    "# ale hranice páté a šesté slovy jsou v mezeře, i když by\n",
    "# přesně měly být hned po samohlásce (e|t alto)\n",
    "aeneida3 = Verse(\n",
    "    \"litora, multum ille et terris iactatus et alto\")\n",
    "aeneida3.print_scansions()"
   ]
  },
  {
   "cell_type": "markdown",
   "metadata": {},
   "source": [
    "## Doplnění jednoznačných délek samohlásek\n",
    "\n",
    "### Proč?\n",
    "\n",
    " * když Semetrika pro každou jednoduchou samohlásku v otevřené slabice zkouší obě možné délky, může dojít k víc než jednomu měření (někdy až ke všem možným pro daný počet slabik)\n",
    "   - anebo může dojít k jednomu, ale špatnému (kvůli špatnému rozdělení na segmenty)\n",
    " * kdyby Semetrika aspoň někde délky samohlásek doplnila, pravděpodobnost toho by snížila\n",
    "\n",
    "### Jak?\n",
    "\n",
    " * délka sice často rozlišuje význam (viz výše), ale je také dost případů, kdy jsou délky jednoznačné, např. poslední samohláska ve slově *regina* \"královna\" může být krátká (v nominativu) i dlouhá (v ablativu), ale první dvě jsou vždycky dlouhé (neexistuje slovo [regina], [regína] ani [régina])"
   ]
  },
  {
   "cell_type": "code",
   "execution_count": 22,
   "metadata": {},
   "outputs": [
    {
     "name": "stdout",
     "output_type": "stream",
     "text": [
      "1. quidvĕ dŏ|lens, rē|gīnă dĕ|um tot | volvĕrĕ | cāsus\n",
      "     -  u  u| -     -| - u  u|-   -  |  -  u u |  - - \n",
      "\n",
      "2. quidvĕ dŏ|lens, rĕgĭ|nā dē|um tot | volvĕrĕ | cāsus\n",
      "     -  u  u| -     u u| -  -|-   -  |  -  u u |  - - \n"
     ]
    },
    {
     "name": "stderr",
     "output_type": "stream",
     "text": [
      "WARNING: cannot scan this unambiguosly\n"
     ]
    }
   ],
   "source": [
    "aeneida9 = Verse(\n",
    "    \"quidve dolens, regina deum tot volvere casus\")\n",
    "aeneida9.print_scansions()"
   ]
  },
  {
   "cell_type": "code",
   "execution_count": 23,
   "metadata": {},
   "outputs": [
    {
     "name": "stdout",
     "output_type": "stream",
     "text": [
      "quidvĕ dŏ|lens, rē|gīnă dĕ|um tot | volvĕrĕ | cāsus\n",
      "  -  u  u| -     -| - u  u|-   -  |  -  u u |  - - \n"
     ]
    }
   ],
   "source": [
    "# Semetrika si umí dát poradit\n",
    "aeneida9_s_delkami = Verse(\n",
    "    \"quidve dolens, régína deum tot volvere casus\")\n",
    "aeneida9_s_delkami.print_scansions()"
   ]
  },
  {
   "cell_type": "markdown",
   "metadata": {},
   "source": [
    "### Jak ne?\n",
    "\n",
    " - obecné zákonitosti\n",
    "   - koncové *-i*, *-o*, *-u* je většinou dlouhé (ale ne vždycky)\n",
    "   - samohláska před koncovým *-t*, *-d*, *-r* je většinou krátká (ale ne vždycky)\n",
    "   - samohláska před samohláskou je většinou krátká (ale ne vždycky), říká se tomu *vocalis ante vocalem corripitur* (\"samohláska před samohláskou se krátí\")\n",
    "   - proč ne: neplatí to obecně a byla by otrava vymýšlet nebo hledat výjimky\n",
    " - ručně sestavit slovník jednoznačných délek u nejčastějších slov\n",
    "   - proč ne: to by taky byla otrava\n",
    " - využít nějaký nástroj na doplňování délek\n",
    "   - proč ne: to bych mohl rovnou využít nějaký nástroj na rozbor hexametru a ušetřit si všechnu tuhle práci\n",
    " - nechat Semetriku naučit se délky z velkého korpusu s označenými délkami\n",
    "   - proč ne: kde ho vzít? a proto, že následující řešení je elegantnější (i když méně účinné)\n",
    "\n",
    "\n",
    "### Jak ano?\n",
    "\n",
    " - nechat Semetriku změřit rozsáhlý korpus hexametrů (bez označených délek)\n",
    " - zjistit pro každé slovo v jednoznačně rozebraných verších frekvenci odkrytých délek (jiné se zjistit nedají, ale ani jich není potřeba)\n",
    "     - tj.: u samohlásek v otevřených slabikách a u krátkých samohlásek před mutou cum liquida\n",
    " - a za jednoznačné délky považovat ty, kde má jedna hodnota aspoň nějaký počet a druhá nejvýše nějaký\n",
    "   - proč připouštět odporující délky: to, že Semetrika dospěje právě k jednomu měření, neznamená, že je správné -- někdy tedy může dojít u nějaké jednoznačné samohlásky ke špatné délce a tím by o ni přišla (ale když připustíme odporující délky, můžeme ovšem naopak nechat Semetriku naučit se nějakou délku jako jednoznačnou, i když skutečně není)\n",
    "   - jako minimum pro zařazení do slovníku jsem zvolil dvacet a jako maximum odporujících délek tři a obojí jsou divoké odhady\n",
    " - tento postup by se mohl i opakovat\n",
    "\n",
    " * se slovníkem délek se může počet měření zmenšit nebo zůstat stejný, ale nezvětší se (Semetrika jím nahrazuje jen nejednoznačné délky jednoznačnými)"
   ]
  },
  {
   "cell_type": "markdown",
   "metadata": {},
   "source": [
    "### Korpus\n",
    "\n",
    " * složení:\n",
    "   * Horatius: *Satiry* a *Listy*\n",
    "   * Juvenál: *Satiry*\n",
    "   * Lucan: *Farsalské pole* (historický epos)\n",
    "   * Lucretius: *O přírodě* (naučný epos)\n",
    "   * Ovidius: *Proměny* (mytologický epos)\n",
    "   * Statius: *Achilleida* (mytologický epos)\n",
    "   * Valerius Flaccus: *Argonautica* (mytologický epos)\n",
    "   * Vergilius: *Pastýřské zpěvy*, *Rolnické zpěvy* (naučný epos), *Aeneida* (mytologický epos)\n",
    " * zdroj: Perseus Digital Library, prostřednictvím CLTK:\n",
    "   https://github.com/cltk/latin_text_perseus\n",
    "   (JSON jsem převedl na prostý text)"
   ]
  },
  {
   "cell_type": "code",
   "execution_count": 24,
   "metadata": {},
   "outputs": [
    {
     "name": "stdout",
     "output_type": "stream",
     "text": [
      "56371\r\n"
     ]
    }
   ],
   "source": [
    "# počet veršů\n",
    "!cat perseus_corpus/* | wc -l"
   ]
  },
  {
   "cell_type": "code",
   "execution_count": 25,
   "metadata": {},
   "outputs": [],
   "source": [
    "default_ld = LengthDictionary()\n",
    "default_ld.load(\".default_length_dictionary.pickle\",\n",
    "               load_frequencies=True)"
   ]
  },
  {
   "cell_type": "code",
   "execution_count": 26,
   "metadata": {},
   "outputs": [
    {
     "data": {
      "text/plain": [
       "43841"
      ]
     },
     "execution_count": 26,
     "metadata": {},
     "output_type": "execute_result"
    }
   ],
   "source": [
    "# počet slov v celém korpusu\n",
    "len(default_ld.frequencies)"
   ]
  },
  {
   "cell_type": "code",
   "execution_count": 27,
   "metadata": {},
   "outputs": [
    {
     "data": {
      "text/plain": [
       "[{'long': 0, 'short': 0, 'unknown': 36},\n",
       " {'long': 1, 'short': 35, 'unknown': 0},\n",
       " {'long': 1, 'short': 35, 'unknown': 0},\n",
       " {'long': 0, 'short': 0, 'unknown': 36}]"
      ]
     },
     "execution_count": 27,
     "metadata": {},
     "output_type": "execute_result"
    }
   ],
   "source": [
    "default_ld.frequencies[\"insequitur\"]\n",
    "# * délka první samohlásky je vždycky neznámá, protože\n",
    "#   je v zavřené slabice\n",
    "# * druhá a třetí samohláska je až na jeden případ správně\n",
    "#   určena jako krátká\n",
    "# * čtvrtá samohláska je krátká a kdyby následovalo slovo\n",
    "#   začínající samohláskou, Semetrika by to mohla odhalit,\n",
    "#   ale v tomto korpusu takový případ není"
   ]
  },
  {
   "cell_type": "code",
   "execution_count": 28,
   "metadata": {},
   "outputs": [
    {
     "name": "stdout",
     "output_type": "stream",
     "text": [
      "insē|quītur | candens | confes|tim lŭcĭ|dūs aer ,\n",
      "-  -|  - -  |  -  -   |  -  - | -   u u| -  -    \n"
     ]
    }
   ],
   "source": [
    "# mimochodem, Semetrika se spletla u tohoto verše\n",
    "aer = Verse(\n",
    "    \"insequitur candens confestim lucidus aer ,\")\n",
    "aer.print_scansions()"
   ]
  },
  {
   "cell_type": "code",
   "execution_count": 29,
   "metadata": {},
   "outputs": [
    {
     "name": "stdout",
     "output_type": "stream",
     "text": [
      "insĕquĭ|tur can|dens con|festim | lūcĭdŭs | āër ,\n",
      "-  u  u| -   - | -    - | -  -  |  - u u  | --   \n"
     ]
    }
   ],
   "source": [
    "# s nápovědou, že ve slově aer není dvojhláska,\n",
    "# už dojde ke správnému měření\n",
    "aer_s_napovedou = Verse(\n",
    "    \"insequitur candens confestim lucidus aër ,\")\n",
    "aer_s_napovedou.print_scansions()"
   ]
  },
  {
   "cell_type": "code",
   "execution_count": 30,
   "metadata": {},
   "outputs": [
    {
     "data": {
      "text/plain": [
       "1453"
      ]
     },
     "execution_count": 30,
     "metadata": {},
     "output_type": "execute_result"
    }
   ],
   "source": [
    "# počet slov vybraných do slovníku délek\n",
    "len(default_ld.dictionary)"
   ]
  },
  {
   "cell_type": "code",
   "execution_count": 31,
   "metadata": {},
   "outputs": [
    {
     "data": {
      "text/plain": [
       "['unknown', 'short', 'short', 'unknown']"
      ]
     },
     "execution_count": 31,
     "metadata": {},
     "output_type": "execute_result"
    }
   ],
   "source": [
    "# díky toleranci se dostane toto slovo do slovníku\n",
    "# se správně označenými délkami\n",
    "default_ld.dictionary[\"insequitur\"]"
   ]
  },
  {
   "cell_type": "code",
   "execution_count": 32,
   "metadata": {},
   "outputs": [
    {
     "data": {
      "text/plain": [
       "49"
      ]
     },
     "execution_count": 32,
     "metadata": {},
     "output_type": "execute_result"
    }
   ],
   "source": [
    "vzorek = sorted(default_ld.dictionary.keys())[::30]\n",
    "len(vzorek)"
   ]
  },
  {
   "cell_type": "code",
   "execution_count": 33,
   "metadata": {},
   "outputs": [
    {
     "name": "stdout",
     "output_type": "stream",
     "text": [
      "ā\n",
      "aethĕră\n",
      "altĕr\n",
      "ăquārum\n",
      "bellī\n",
      "cărīnae\n",
      "cŏlōres\n",
      "corpŏrĕ\n",
      "dăbĭt\n",
      "dĭānae\n",
      "dŏmōs\n",
      "ĕques\n",
      "făcĭle\n",
      "fĕrunt\n",
      "fortĕ\n",
      "fūnĕră\n",
      "hăbēnis\n",
      "hŭmum\n",
      "impĕrĭum\n",
      "īram\n",
      "lăbōre\n",
      "līmĭtĕ\n",
      "maiōrĕ\n",
      "mēcum\n",
      "mĭnervae\n",
      "mŏras\n",
      "nāti\n",
      "nōmĭnă\n",
      "occŭpăt\n",
      "ostĭă\n",
      "pătrĭo\n",
      "phoebŭs\n",
      "pŏsŭit\n",
      "prō\n",
      "quārum\n",
      "rāmis\n",
      "rīpas\n",
      "scīrĕ\n",
      "sĕquī\n",
      "sōl\n",
      "stābat\n",
      "sŭum\n",
      "tĕnĕt\n",
      "transīrĕ\n",
      "ŭmĕros\n",
      "vĕl\n",
      "vĕtŭs\n",
      "vĭrī\n",
      "vŏlat\n"
     ]
    }
   ],
   "source": [
    "for word in vzorek:\n",
    "    # doplní délky podle slovníku\n",
    "    default_ld.print_with_lengths(word)"
   ]
  },
  {
   "cell_type": "markdown",
   "metadata": {},
   "source": [
    " * jestli jsem něco nepřehlédl, jsou v tomto vzorku jen tři nejednoznačné délky určené jako jednoznačné:\n",
    "\n",
    "   * *Dĭānae* \"(bez) Diany\", ale také *Dīānae* (hlásková varianta)\n",
    "   * *nōmĭnă* \"jména\", ale také *nōmĭnā* \"jmenuj\"\n",
    "   * *vĭrī* \"mužovi\", ale také *vīrī* \"(bez) jedu\"\n",
    "\n",
    " * ale tyto chyby se asi moc často neprojeví"
   ]
  },
  {
   "cell_type": "markdown",
   "metadata": {},
   "source": [
    "## Malá zkouška úspěšnosti\n",
    "\n",
    " * na jedné básni z korpusu na učení délek (první kniha Aeneidy)\n",
    " * a na jedné neznámé básni (pátá kniha Avitova biblického eposu)\n",
    " * (ne všechny verše s jedním měřením jsou ovšem změřeny správně)"
   ]
  },
  {
   "cell_type": "code",
   "execution_count": 34,
   "metadata": {},
   "outputs": [],
   "source": [
    "with open(\"tests/vergil-aeneid1.txt\", \"r\") as file:\n",
    "    vergilius = file.readlines()"
   ]
  },
  {
   "cell_type": "code",
   "execution_count": 35,
   "metadata": {},
   "outputs": [],
   "source": [
    "vergilius_test = Test(vergilius)"
   ]
  },
  {
   "cell_type": "code",
   "execution_count": 36,
   "metadata": {},
   "outputs": [
    {
     "name": "stdout",
     "output_type": "stream",
     "text": [
      "NUMBER OF VERSES: 756\n",
      "\n",
      "\t| W/O\tWITH\t| W/O\tWITH\n",
      "0\t| 30\t39\t| 3 %\t5 %\n",
      "1\t| 552\t653\t| 73 %\t86 %\n",
      "2\t| 135\t55\t| 17 %\t7 %\n",
      "3\t| 34\t8\t| 4 %\t1 %\n",
      "4\t| 5\t1\t| 0 %\t0 %\n"
     ]
    }
   ],
   "source": [
    "# sloupce:\n",
    "# 1) počet měření\n",
    "# 2) počet veršů tolikrát změřených bez slovníku délek\n",
    "# 3) ... s ním\n",
    "# 4) a 5) procenta\n",
    "vergilius_test.print_statistics()"
   ]
  },
  {
   "cell_type": "code",
   "execution_count": 37,
   "metadata": {},
   "outputs": [],
   "source": [
    "with open(\"tests/avitus.txt\", \"r\") as file:\n",
    "    avitus = file.readlines()"
   ]
  },
  {
   "cell_type": "code",
   "execution_count": 38,
   "metadata": {},
   "outputs": [],
   "source": [
    "avitus_test = Test(avitus)"
   ]
  },
  {
   "cell_type": "code",
   "execution_count": 39,
   "metadata": {},
   "outputs": [
    {
     "name": "stdout",
     "output_type": "stream",
     "text": [
      "NUMBER OF VERSES: 719\n",
      "\n",
      "\t| W/O\tWITH\t| W/O\tWITH\n",
      "0\t| 9\t12\t| 1 %\t1 %\n",
      "1\t| 585\t642\t| 81 %\t89 %\n",
      "2\t| 108\t61\t| 15 %\t8 %\n",
      "3\t| 15\t3\t| 2 %\t0 %\n",
      "4\t| 1\t0\t| 0 %\t0 %\n",
      "6\t| 1\t1\t| 0 %\t0 %\n"
     ]
    }
   ],
   "source": [
    "avitus_test.print_statistics()"
   ]
  },
  {
   "cell_type": "markdown",
   "metadata": {},
   "source": [
    "Takže nic moc."
   ]
  },
  {
   "cell_type": "markdown",
   "metadata": {},
   "source": [
    "## Literatura\n",
    "\n",
    " * Allen, Sidney W.: *Vox Latina: A Guide to the Pronunciation of Classical Latin*. London: Cambridge University Press, 1978.\n",
    " * Kuťáková, Eva: *Laudabile carmen*. Praha: Karolinum, 2012.\n",
    " * Lukeš, David: *How computers handle text: a gentle but thorough introduction to Unicode*. 2016. Online: <https://dlukes.github.io/unicode.html>\n",
    " * Panhuis, Dirk: *Gramatika latiny*. Praha: Academia, 2014."
   ]
  },
  {
   "cell_type": "markdown",
   "metadata": {},
   "source": [
    "## Jiné nástroje na měření časoměrných veršů\n",
    "\n",
    " * http://docs.cltk.org/en/latest/latin.html#scansion-of-poetry\n",
    " * https://github.com/blagae/elisio\n",
    " * http://www.logical.ai/arma/\n",
    " * http://schediazein.altervista.org/Metron/Site/Metron.html\n",
    " * http://metronom.jtomaszewski.com/home/\n",
    " * http://www.alatius.com/macronizer/\n",
    " * https://community.wolfram.com/groups/-/m/t/1732445"
   ]
  }
 ],
 "metadata": {
  "kernelspec": {
   "display_name": "Python 3",
   "language": "python",
   "name": "python3"
  },
  "language_info": {
   "codemirror_mode": {
    "name": "ipython",
    "version": 3
   },
   "file_extension": ".py",
   "mimetype": "text/x-python",
   "name": "python",
   "nbconvert_exporter": "python",
   "pygments_lexer": "ipython3",
   "version": "3.8.1"
  }
 },
 "nbformat": 4,
 "nbformat_minor": 2
}
